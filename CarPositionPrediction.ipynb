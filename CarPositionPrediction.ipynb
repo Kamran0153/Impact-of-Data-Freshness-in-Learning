{
  "nbformat": 4,
  "nbformat_minor": 0,
  "metadata": {
    "colab": {
      "name": "CarPositionPrediction.ipynb",
      "provenance": [],
      "mount_file_id": "1pYrk6Lg8t9HAd3bNY4s-D4fszL9rVl9i",
      "authorship_tag": "ABX9TyN+yLqQdU7aw4kz//CmQpkM",
      "include_colab_link": true
    },
    "kernelspec": {
      "name": "python3",
      "display_name": "Python 3"
    },
    "language_info": {
      "name": "python"
    }
  },
  "cells": [
    {
      "cell_type": "markdown",
      "metadata": {
        "id": "view-in-github",
        "colab_type": "text"
      },
      "source": [
        "<a href=\"https://colab.research.google.com/github/mzs0153/Impact-of-Data-Freshness-in-Learning/blob/main/CarPositionPrediction.ipynb\" target=\"_parent\"><img src=\"https://colab.research.google.com/assets/colab-badge.svg\" alt=\"Open In Colab\"/></a>"
      ]
    },
    {
      "cell_type": "code",
      "execution_count": 1,
      "metadata": {
        "colab": {
          "base_uri": "https://localhost:8080/"
        },
        "id": "zJLrRYU6A3uB",
        "outputId": "eaed9807-cc6e-4b32-e929-6d829172ed71"
      },
      "outputs": [
        {
          "output_type": "stream",
          "name": "stdout",
          "text": [
            "/content/drive/My Drive/Data_Freshness_Paper\n"
          ]
        }
      ],
      "source": [
        "%cd /content/drive/My Drive/Data_Freshness_Paper"
      ]
    },
    {
      "cell_type": "code",
      "source": [
        "import numpy as np\n",
        "import pandas as pd\n",
        "import matplotlib.pyplot as plt\n",
        "import tensorflow as tf\n",
        "from tensorflow import keras"
      ],
      "metadata": {
        "id": "j_hcf-8xBfhV"
      },
      "execution_count": 2,
      "outputs": []
    },
    {
      "cell_type": "code",
      "source": [
        "csv_path = \"MountainCarDataset.csv\"\n",
        "\n",
        "df = pd.read_csv(csv_path)"
      ],
      "metadata": {
        "id": "7ZV1atwOBnIC"
      },
      "execution_count": 3,
      "outputs": []
    },
    {
      "cell_type": "code",
      "source": [
        "feature_keys = [\n",
        "    \"Acceleration\",\n",
        "    \"Position\",\n",
        "    \"Velocity\",\n",
        "]"
      ],
      "metadata": {
        "id": "OwOHPIj2CEGv"
      },
      "execution_count": 4,
      "outputs": []
    },
    {
      "cell_type": "code",
      "source": [
        "def normalize(data, train_split):\n",
        "    data_mean = data[:train_split].mean(axis=0)\n",
        "    data_std = data[:train_split].std(axis=0)\n",
        "    return (data - data_mean) / data_std"
      ],
      "metadata": {
        "id": "tUQBClRQCiW_"
      },
      "execution_count": 5,
      "outputs": []
    },
    {
      "cell_type": "code",
      "source": [
        "split_fraction = 0.715\n",
        "train_split = int(split_fraction * int(df.shape[0]))\n",
        "step = 1\n",
        "learning_rate = 0.001\n",
        "batch_size = 256\n",
        "epochs = 30\n",
        "Exppoints=20\n",
        "Age=np.arange(Exppoints)\n",
        "score=np.zeros(len(Age))\n",
        "score1=np.zeros(len(Age))\n",
        "for i in range(len(Age)):\n",
        "  print(Age[i])\n",
        "  L=1\n",
        "  past=L\n",
        "  future=Age[i] \n",
        "  selected_features = [feature_keys[i] for i in [0, 2]]\n",
        "  features = df[selected_features]\n",
        "  \n",
        "  features = normalize(features.values, train_split)\n",
        "  features = pd.DataFrame(features)\n",
        "  \n",
        "  \n",
        "  train_data = features.loc[0 : train_split - 1]\n",
        "  val_data = features.loc[train_split:]    \n",
        "  start = past + future\n",
        "  end = start + train_split\n",
        "\n",
        "  x_train = train_data[[0]].values\n",
        "  \n",
        "  y_train = features.iloc[start:end][[1]]\n",
        "  sequence_length = int(past / step)\n",
        "  \n",
        "  dataset_train = keras.preprocessing.timeseries_dataset_from_array(\n",
        "        x_train,\n",
        "        y_train,\n",
        "        sequence_length=sequence_length,\n",
        "        sampling_rate=step,\n",
        "        batch_size=batch_size,\n",
        "    )\n",
        "  \n",
        "  x_end = len(val_data) - past - future\n",
        "\n",
        "  label_start = train_split + past + future\n",
        "\n",
        "  x_val = val_data.iloc[:x_end][[1]].values\n",
        "  y_val = features.iloc[label_start:][[0]]\n",
        "\n",
        "  dataset_val = keras.preprocessing.timeseries_dataset_from_array(\n",
        "      x_val,\n",
        "      y_val,\n",
        "      sequence_length=sequence_length,\n",
        "      sampling_rate=step,\n",
        "      batch_size=batch_size,\n",
        "  )\n",
        "\n",
        "\n",
        "  for batch in dataset_train.take(1):\n",
        "\n",
        "    inputs, targets = batch\n",
        "\n",
        "    \n",
        "\n",
        "    inputs = keras.layers.Input(shape=(inputs.shape[1], inputs.shape[2]))\n",
        "    lstm_out = keras.layers.LSTM(32)(inputs)\n",
        "    outputs = keras.layers.Dense(1)(lstm_out)\n",
        "\n",
        "    model = keras.Model(inputs=inputs, outputs=outputs)\n",
        "    model.compile(optimizer=keras.optimizers.Adam(learning_rate=learning_rate), loss=\"mse\")\n",
        "\n",
        "  \n",
        "\n",
        "    history = model.fit(\n",
        "      dataset_train,\n",
        "      epochs=epochs,\n",
        "     \n",
        "    )\n",
        "  #score[i]=model.evaluate(dataset_val)\n",
        "  score1[i]=history.history['loss'][epochs-1]\n",
        "\n",
        "plt.plot(Age, score1)\n",
        "np.savez('trainingloss.npz',data=score1)\n",
        "#np.savez('trainingloss2_val.npz',data=score1)"
      ],
      "metadata": {
        "colab": {
          "base_uri": "https://localhost:8080/"
        },
        "id": "GmwcSPFTCptg",
        "outputId": "5b9ec1bc-d2f2-4ed0-b9c2-c65662f7a56a"
      },
      "execution_count": null,
      "outputs": [
        {
          "output_type": "stream",
          "name": "stdout",
          "text": [
            "0\n",
            "Epoch 1/30\n",
            "28/28 [==============================] - 3s 39ms/step - loss: 1.0415\n",
            "Epoch 2/30\n",
            "28/28 [==============================] - 1s 39ms/step - loss: 0.9552\n",
            "Epoch 3/30\n",
            "28/28 [==============================] - 1s 39ms/step - loss: 0.8799\n",
            "Epoch 4/30\n",
            "28/28 [==============================] - 1s 39ms/step - loss: 0.8079\n",
            "Epoch 5/30\n",
            "28/28 [==============================] - 1s 39ms/step - loss: 0.7376\n",
            "Epoch 6/30\n",
            "28/28 [==============================] - 1s 39ms/step - loss: 0.6723\n",
            "Epoch 7/30\n",
            "28/28 [==============================] - 1s 39ms/step - loss: 0.6174\n",
            "Epoch 8/30\n",
            "28/28 [==============================] - 1s 40ms/step - loss: 0.5760\n",
            "Epoch 9/30\n",
            "28/28 [==============================] - 1s 38ms/step - loss: 0.5472\n",
            "Epoch 10/30\n",
            "28/28 [==============================] - 1s 39ms/step - loss: 0.5273\n",
            "Epoch 11/30\n",
            "28/28 [==============================] - 1s 39ms/step - loss: 0.5125\n",
            "Epoch 12/30\n",
            "28/28 [==============================] - 1s 40ms/step - loss: 0.5003\n",
            "Epoch 13/30\n",
            "28/28 [==============================] - 1s 39ms/step - loss: 0.4895\n",
            "Epoch 14/30\n",
            "28/28 [==============================] - 1s 40ms/step - loss: 0.4795\n",
            "Epoch 15/30\n",
            "28/28 [==============================] - 1s 38ms/step - loss: 0.4699\n",
            "Epoch 16/30\n",
            "28/28 [==============================] - 1s 39ms/step - loss: 0.4608\n",
            "Epoch 17/30\n",
            "28/28 [==============================] - 1s 39ms/step - loss: 0.4522\n",
            "Epoch 18/30\n",
            "28/28 [==============================] - 1s 40ms/step - loss: 0.4447\n",
            "Epoch 19/30\n",
            "28/28 [==============================] - 1s 39ms/step - loss: 0.4384\n",
            "Epoch 20/30\n",
            "28/28 [==============================] - 1s 39ms/step - loss: 0.4335\n",
            "Epoch 21/30\n",
            "28/28 [==============================] - 1s 38ms/step - loss: 0.4300\n",
            "Epoch 22/30\n",
            "28/28 [==============================] - 1s 39ms/step - loss: 0.4276\n",
            "Epoch 23/30\n",
            "28/28 [==============================] - 1s 40ms/step - loss: 0.4262\n",
            "Epoch 24/30\n",
            "28/28 [==============================] - 1s 40ms/step - loss: 0.4253\n",
            "Epoch 25/30\n",
            "28/28 [==============================] - 1s 40ms/step - loss: 0.4248\n",
            "Epoch 26/30\n",
            "28/28 [==============================] - 1s 39ms/step - loss: 0.4246\n",
            "Epoch 27/30\n",
            "28/28 [==============================] - 1s 40ms/step - loss: 0.4244\n",
            "Epoch 28/30\n",
            "28/28 [==============================] - 1s 39ms/step - loss: 0.4244\n",
            "Epoch 29/30\n",
            "28/28 [==============================] - 1s 38ms/step - loss: 0.4243\n",
            "Epoch 30/30\n",
            "28/28 [==============================] - 1s 39ms/step - loss: 0.4243\n",
            "1\n",
            "Epoch 1/30\n",
            "28/28 [==============================] - 3s 38ms/step - loss: 0.9696\n",
            "Epoch 2/30\n",
            "28/28 [==============================] - 1s 38ms/step - loss: 0.9055\n",
            "Epoch 3/30\n",
            "28/28 [==============================] - 1s 40ms/step - loss: 0.8437\n",
            "Epoch 4/30\n",
            "28/28 [==============================] - 1s 38ms/step - loss: 0.7859\n",
            "Epoch 5/30\n",
            "28/28 [==============================] - 1s 40ms/step - loss: 0.7374\n",
            "Epoch 6/30\n",
            "28/28 [==============================] - 1s 39ms/step - loss: 0.7018\n",
            "Epoch 7/30\n",
            "28/28 [==============================] - 1s 40ms/step - loss: 0.6771\n",
            "Epoch 8/30\n",
            "28/28 [==============================] - 1s 40ms/step - loss: 0.6585\n",
            "Epoch 9/30\n",
            "15/28 [===============>..............] - ETA: 0s - loss: 0.6796"
          ]
        }
      ]
    }
  ]
}