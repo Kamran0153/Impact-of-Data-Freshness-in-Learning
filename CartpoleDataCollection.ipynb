{
  "nbformat": 4,
  "nbformat_minor": 0,
  "metadata": {
    "colab": {
      "name": "CartpoleDataCollection.ipynb",
      "provenance": [],
      "mount_file_id": "1oUG0q5fxhDHy-rQzesrd82ELVSxaiZrU",
      "authorship_tag": "ABX9TyNrRjjDTPjLo5A4wHJfw1Ab",
      "include_colab_link": true
    },
    "kernelspec": {
      "display_name": "Python 3",
      "name": "python3"
    }
  },
  "cells": [
    {
      "cell_type": "markdown",
      "metadata": {
        "id": "view-in-github",
        "colab_type": "text"
      },
      "source": [
        "<a href=\"https://colab.research.google.com/github/mzs0153/Impact-of-Data-Freshness-in-Learning/blob/main/CartpoleDataCollection.ipynb\" target=\"_parent\"><img src=\"https://colab.research.google.com/assets/colab-badge.svg\" alt=\"Open In Colab\"/></a>"
      ]
    },
    {
      "cell_type": "code",
      "source": [
        "%cd /content/drive/My Drive/Data_Freshness_Paper"
      ],
      "metadata": {
        "colab": {
          "base_uri": "https://localhost:8080/"
        },
        "id": "jHywckXIwbD2",
        "outputId": "6c9902e2-0bdb-45e0-83ae-58522ee7bfb5"
      },
      "execution_count": 14,
      "outputs": [
        {
          "output_type": "stream",
          "name": "stdout",
          "text": [
            "/content/drive/My Drive/Data_Freshness_Paper\n"
          ]
        }
      ]
    },
    {
      "cell_type": "code",
      "metadata": {
        "id": "SLEHlOrS06Bt"
      },
      "source": [
        "import gym\n",
        "import numpy as np\n",
        "import tensorflow as tf\n",
        "from tensorflow import keras\n",
        "from tensorflow.keras import layers\n",
        "import matplotlib.pyplot as plt\n",
        "\n",
        "# Configuration parameters for the whole setup\n",
        "seed = 42\n",
        "gamma = 0.99  # Discount factor for past rewards\n",
        "max_steps_per_episode = 10000\n",
        "env = gym.make(\"CartPole-v0\")  # Create the environment\n",
        "env.tau=0.01\n",
        "env.length=5\n",
        "env.x_threshold=3\n",
        "env.seed(seed)\n",
        "eps = np.finfo(np.float32).eps.item()  # Smallest number such that 1.0 + eps != 1.0\n",
        "import pandas as pd  \n"
      ],
      "execution_count": 15,
      "outputs": []
    },
    {
      "cell_type": "code",
      "metadata": {
        "id": "MQc70K3G1E9E"
      },
      "source": [
        "num_inputs = 4\n",
        "num_actions = 2\n",
        "num_hidden = 128\n",
        "\n",
        "inputs = layers.Input(shape=(num_inputs,))\n",
        "common = layers.Dense(num_hidden, activation=\"relu\")(inputs)\n",
        "action = layers.Dense(num_actions, activation=\"softmax\")(common)\n",
        "critic = layers.Dense(1)(common)\n",
        "\n",
        "model = keras.Model(inputs=inputs, outputs=[action, critic])"
      ],
      "execution_count": 16,
      "outputs": []
    },
    {
      "cell_type": "code",
      "metadata": {
        "colab": {
          "base_uri": "https://localhost:8080/"
        },
        "id": "sS2y4B8C1Lez",
        "outputId": "c3da960c-f861-465b-da67-657a08dca17d"
      },
      "source": [
        "optimizer = keras.optimizers.Adam(learning_rate=0.01)\n",
        "huber_loss = keras.losses.Huber()\n",
        "action_probs_history = []\n",
        "critic_value_history = []\n",
        "rewards_history = []\n",
        "running_reward = 0\n",
        "episode_count = 0\n",
        "\n",
        "while True:  # Run until solved\n",
        "    state = env.reset()\n",
        "    episode_reward = 0\n",
        "    with tf.GradientTape() as tape:\n",
        "        for timestep in range(1, max_steps_per_episode):\n",
        "            # env.render(); Adding this line would show the attempts\n",
        "            # of the agent in a pop up window.\n",
        "\n",
        "            state = tf.convert_to_tensor(state)\n",
        "            state = tf.expand_dims(state, 0)\n",
        "\n",
        "            # Predict action probabilities and estimated future rewards\n",
        "            # from environment state\n",
        "            action_probs, critic_value = model(state)\n",
        "            critic_value_history.append(critic_value[0, 0])\n",
        "\n",
        "            # Sample action from action probability distribution\n",
        "            action = np.random.choice(num_actions, p=np.squeeze(action_probs))\n",
        "            action_probs_history.append(tf.math.log(action_probs[0, action]))\n",
        "\n",
        "            # Apply the sampled action in our environment\n",
        "            state, reward, done, _ = env.step(action)\n",
        "            #Adding noise with the state observation\n",
        "            #state=state+0.01*np.random.normal(0,1,4)\n",
        "            rewards_history.append(reward)\n",
        "            episode_reward += reward\n",
        "\n",
        "            if done:\n",
        "                break\n",
        "\n",
        "        # Update running reward to check condition for solving\n",
        "        running_reward = 0.05 * episode_reward + (1 - 0.05) * running_reward\n",
        "\n",
        "        # Calculate expected value from rewards\n",
        "        # - At each timestep what was the total reward received after that timestep\n",
        "        # - Rewards in the past are discounted by multiplying them with gamma\n",
        "        # - These are the labels for our critic\n",
        "        returns = []\n",
        "        discounted_sum = 0\n",
        "        for r in rewards_history[::-1]:\n",
        "            discounted_sum = r + gamma * discounted_sum\n",
        "            returns.insert(0, discounted_sum)\n",
        "\n",
        "        # Normalize\n",
        "        returns = np.array(returns)\n",
        "        returns = (returns - np.mean(returns)) / (np.std(returns) + eps)\n",
        "        returns = returns.tolist()\n",
        "\n",
        "        # Calculating loss values to update our network\n",
        "        history = zip(action_probs_history, critic_value_history, returns)\n",
        "        actor_losses = []\n",
        "        critic_losses = []\n",
        "        for log_prob, value, ret in history:\n",
        "            # At this point in history, the critic estimated that we would get a\n",
        "            # total reward = `value` in the future. We took an action with log probability\n",
        "            # of `log_prob` and ended up recieving a total reward = `ret`.\n",
        "            # The actor must be updated so that it predicts an action that leads to\n",
        "            # high rewards (compared to critic's estimate) with high probability.\n",
        "            diff = ret - value\n",
        "            actor_losses.append(-log_prob * diff)  # actor loss\n",
        "\n",
        "            # The critic must be updated so that it predicts a better estimate of\n",
        "            # the future rewards.\n",
        "            critic_losses.append(\n",
        "                huber_loss(tf.expand_dims(value, 0), tf.expand_dims(ret, 0))\n",
        "            )\n",
        "\n",
        "        # Backpropagation\n",
        "        loss_value = sum(actor_losses) + sum(critic_losses)\n",
        "        grads = tape.gradient(loss_value, model.trainable_variables)\n",
        "        optimizer.apply_gradients(zip(grads, model.trainable_variables))\n",
        "\n",
        "        # Clear the loss and reward history\n",
        "        action_probs_history.clear()\n",
        "        critic_value_history.clear()\n",
        "        rewards_history.clear()\n",
        "\n",
        "    # Log details\n",
        "    episode_count += 1\n",
        "    if episode_count % 10 == 0:\n",
        "        template = \"running reward: {:.2f} at episode {}\"\n",
        "        print(template.format(running_reward, episode_count))\n",
        "\n",
        "    if running_reward > 195:  # Condition to consider the task solved\n",
        "        print(\"Solved at episode {}!\".format(episode_count))\n",
        "        break"
      ],
      "execution_count": 17,
      "outputs": [
        {
          "output_type": "stream",
          "name": "stdout",
          "text": [
            "running reward: 13.40 at episode 10\n",
            "running reward: 25.18 at episode 20\n",
            "running reward: 26.68 at episode 30\n",
            "running reward: 33.56 at episode 40\n",
            "running reward: 47.40 at episode 50\n",
            "running reward: 83.60 at episode 60\n",
            "running reward: 90.22 at episode 70\n",
            "running reward: 130.83 at episode 80\n",
            "running reward: 141.52 at episode 90\n",
            "running reward: 123.63 at episode 100\n",
            "running reward: 120.61 at episode 110\n",
            "running reward: 128.50 at episode 120\n",
            "running reward: 152.29 at episode 130\n",
            "running reward: 170.79 at episode 140\n",
            "running reward: 173.44 at episode 150\n",
            "running reward: 164.22 at episode 160\n",
            "running reward: 162.42 at episode 170\n",
            "running reward: 160.61 at episode 180\n",
            "running reward: 155.66 at episode 190\n",
            "running reward: 123.98 at episode 200\n",
            "running reward: 120.00 at episode 210\n",
            "running reward: 137.56 at episode 220\n",
            "running reward: 136.48 at episode 230\n",
            "running reward: 143.98 at episode 240\n",
            "running reward: 149.98 at episode 250\n",
            "running reward: 168.58 at episode 260\n",
            "running reward: 173.38 at episode 270\n",
            "running reward: 147.96 at episode 280\n",
            "running reward: 150.03 at episode 290\n",
            "running reward: 159.44 at episode 300\n",
            "running reward: 150.26 at episode 310\n",
            "running reward: 165.65 at episode 320\n",
            "running reward: 179.43 at episode 330\n",
            "running reward: 187.69 at episode 340\n",
            "running reward: 190.04 at episode 350\n",
            "running reward: 191.67 at episode 360\n",
            "running reward: 173.61 at episode 370\n",
            "running reward: 158.68 at episode 380\n",
            "running reward: 142.80 at episode 390\n",
            "running reward: 126.29 at episode 400\n",
            "running reward: 128.32 at episode 410\n",
            "running reward: 133.03 at episode 420\n",
            "running reward: 135.10 at episode 430\n",
            "running reward: 144.58 at episode 440\n",
            "running reward: 166.82 at episode 450\n",
            "running reward: 180.13 at episode 460\n",
            "running reward: 188.10 at episode 470\n",
            "running reward: 192.88 at episode 480\n",
            "Solved at episode 487!\n"
          ]
        }
      ]
    },
    {
      "cell_type": "code",
      "source": [
        "model.save('DQNCartpoleExp.h5') "
      ],
      "metadata": {
        "colab": {
          "base_uri": "https://localhost:8080/"
        },
        "id": "y5rWrMZkwJxw",
        "outputId": "4d7fdbc3-82b8-4241-fa99-9ab8d18ba300"
      },
      "execution_count": 18,
      "outputs": [
        {
          "output_type": "stream",
          "name": "stdout",
          "text": [
            "WARNING:tensorflow:Compiled the loaded model, but the compiled metrics have yet to be built. `model.compile_metrics` will be empty until you train or evaluate the model.\n"
          ]
        }
      ]
    },
    {
      "cell_type": "code",
      "metadata": {
        "id": "ROIa2aIn4F_C"
      },
      "source": [
        "state=env.reset()\n",
        "Dataset=state\n",
        "state = tf.constant(env.reset(), dtype=tf.float32)\n",
        "max_steps=10000\n",
        "for i in range(1, max_steps + 1):\n",
        "    state = tf.expand_dims(state, 0)\n",
        "    action_probs, _ = model(state)\n",
        " \n",
        "    action = np.argmax(np.squeeze(action_probs))\n",
        "\n",
        "    state, _, done, _ = env.step(action)\n",
        "    if (done==True):\n",
        "      state=env.reset()\n",
        "    Dataset=np.vstack((Dataset,state))\n",
        "    state = tf.constant(state, dtype=tf.float32)\n"
      ],
      "execution_count": 19,
      "outputs": []
    },
    {
      "cell_type": "code",
      "metadata": {
        "id": "Hw_p7UY041Gb"
      },
      "source": [
        "import pandas as pd\n",
        "\n",
        "## convert your array into a dataframe\n",
        "df = pd.DataFrame(Dataset)\n",
        "\n",
        "## save to xlsx file\n",
        "\n",
        "filepath ='my_excel_file.xlsx'\n",
        "\n",
        "df.to_excel(filepath, index=False)"
      ],
      "execution_count": 20,
      "outputs": []
    },
    {
      "cell_type": "code",
      "metadata": {
        "colab": {
          "base_uri": "https://localhost:8080/",
          "height": 329
        },
        "id": "PKKB7eEV6B51",
        "outputId": "df4b7c50-4166-4f10-a923-59d13f5b1bb7"
      },
      "source": [
        "\n",
        "x=Dataset[:,1]\n",
        "y=Dataset[:,2]\n",
        "\n",
        "a=np.corrcoef(x,y)\n",
        "b=np.correlate(x,y, 'same')\n",
        "t=np.arange(1,len(b)+1)-len(b)/2\n",
        "l=int((len(b)+1)/2)\n",
        "plt.title(\"Cross correlation of pole velocity and pole angle\")\n",
        "plt.plot(t[l-100:l+100], b[l-100:l+100])\n",
        "plt.ylabel('Corr_Coff')  \n",
        "plt.xlabel('lag')\n",
        "plt.savefig('CrossCorr_Angle_Velocity.pdf')\n",
        "print(a)"
      ],
      "execution_count": 22,
      "outputs": [
        {
          "output_type": "stream",
          "name": "stdout",
          "text": [
            "[[1.         0.09707962]\n",
            " [0.09707962 1.        ]]\n"
          ]
        },
        {
          "output_type": "display_data",
          "data": {
            "image/png": "[encoded data removed]",
            "text/plain": [
              "<Figure size 432x288 with 1 Axes>"
            ]
          },
          "metadata": {
            "needs_background": "light"
          }
        }
      ]
    }
  ]
}